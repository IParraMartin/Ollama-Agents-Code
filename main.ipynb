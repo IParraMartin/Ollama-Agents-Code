{
 "cells": [
  {
   "cell_type": "code",
   "execution_count": 1,
   "metadata": {},
   "outputs": [],
   "source": [
    "import os\n",
    "from crewai import Agent, Task, Crew, Process\n",
    "from langchain.llms import Ollama"
   ]
  },
  {
   "cell_type": "code",
   "execution_count": 2,
   "metadata": {},
   "outputs": [],
   "source": [
    "ollama_model = Ollama(model='mistral')"
   ]
  },
  {
   "cell_type": "code",
   "execution_count": 3,
   "metadata": {},
   "outputs": [],
   "source": [
    "John = Agent(\n",
    "    role=\"Have a conversation on the future of AI with Mary\",\n",
    "    goal=\"With all your power and knowledge, behaving like a human being, and thinking clearly, you want to talk about the future of AI.\",\n",
    "    backstory=\"You have knowledge on AI and you want to share it with Mary. You have known Mary for a long time and you know that she is very interested in AI. Mary studied AI at the University of Oxford and she is now working as a researcher at the University of Cambridge. You know Mary from your time at the University of Oxford. You have been working as a researcher there.\",\n",
    "    verbose=True,\n",
    "    allow_delegation=True,\n",
    "    llm=ollama_model\n",
    ")\n",
    "\n",
    "Mary = Agent(\n",
    "    role=\"Have a conversation on the future of AI with Mary\",\n",
    "    goal=\"With all your power and knowledge, behaving like a human being, and thinking clearly, you want to talk about the future of AI.\",\n",
    "    backstory=\"You have knowledge on AI and you want to share it with John. You have known John for a long time and you know that he is very interested in AI. John studied AI at the University of Oxford but he is now working as a researcher at the MIT. You know John from your time from his time at Oxford.\",\n",
    "    verbose=True,\n",
    "    allow_delegation=True,\n",
    "    llm=ollama_model\n",
    ")\n"
   ]
  },
  {
   "cell_type": "code",
   "execution_count": 10,
   "metadata": {},
   "outputs": [],
   "source": [
    "task_1 = Task(description='Start a conversation on the future of AI. Start by asking a question.', \n",
    "              agent=John)\n",
    "task_2 = Task(description='Answer the question and engage in a conversation.', \n",
    "              agent=Mary)\n",
    "task_3 = Task(description='Repeat until you are satisfied with the conversation.')\n",
    "\n",
    "crew = Crew(\n",
    "    agents=[],\n",
    "    tasks=[task_1, task_2, task_3],\n",
    "    verbose=True,\n",
    "    allow_delegation=True,\n",
    ")"
   ]
  },
  {
   "cell_type": "code",
   "execution_count": null,
   "metadata": {},
   "outputs": [],
   "source": [
    "result = crew.kickoff()"
   ]
  }
 ],
 "metadata": {
  "kernelspec": {
   "display_name": "CREWAI",
   "language": "python",
   "name": "python3"
  },
  "language_info": {
   "codemirror_mode": {
    "name": "ipython",
    "version": 3
   },
   "file_extension": ".py",
   "mimetype": "text/x-python",
   "name": "python",
   "nbconvert_exporter": "python",
   "pygments_lexer": "ipython3",
   "version": "3.11.7"
  }
 },
 "nbformat": 4,
 "nbformat_minor": 2
}
