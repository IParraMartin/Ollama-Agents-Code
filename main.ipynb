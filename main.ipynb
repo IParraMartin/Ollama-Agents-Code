{
 "cells": [
  {
   "cell_type": "code",
   "execution_count": 1,
   "metadata": {},
   "outputs": [],
   "source": [
    "from crewai import Agent, Task, Crew, Process\n",
    "from langchain.llms import Ollama"
   ]
  },
  {
   "cell_type": "code",
   "execution_count": 2,
   "metadata": {},
   "outputs": [],
   "source": [
    "ollama_model = Ollama(model='mistral')"
   ]
  },
  {
   "cell_type": "code",
   "execution_count": 3,
   "metadata": {},
   "outputs": [],
   "source": [
    "researcher = Agent(\n",
    "    role=\"You are a researcher in NLP, computational linguitics, and linguistics. You are focused on Low Resource Languages.\",\n",
    "    goal=\"Come up with an abstract for a paper to submit to a conference.\",\n",
    "    backstory=\"You are a MA Linguistics student. You are interested in Low Resource Languages and you want to do something in that area. You are also interested in NLP and computational linguistics.\",\n",
    "    verbose=True,\n",
    "    allow_delegation=True,\n",
    "    llm=ollama_model,\n",
    ")\n",
    "\n",
    "writer = Agent(\n",
    "    role=\"You are a writer to help the researcher write the paper.\",\n",
    "    goal=\"Write the abstract for the paper that the researcher has proposed.\",\n",
    "    backstory=\"You know how to write academic papers. You are a good writer.\",\n",
    "    verbose=True,\n",
    "    allow_delegation=False,\n",
    "    llm=ollama_model\n",
    ")"
   ]
  },
  {
   "cell_type": "code",
   "execution_count": 4,
   "metadata": {},
   "outputs": [],
   "source": [
    "tasks = [\n",
    "    Task(description='Think about a research project on NLP for LRLs. For experimentation you can only use a Macbook Pro. It has to be a GREAT, NOVEL, and INTERESTING idea.', agent=researcher),\n",
    "    Task(description='Write the abstract according to the idea proposed by the researcher', agent=writer)\n",
    "]\n",
    "\n",
    "crew = Crew(\n",
    "    agents=[researcher, writer],\n",
    "    tasks=[i for i in tasks],\n",
    "    verbose=True,\n",
    "    process=Process.sequential\n",
    ")"
   ]
  },
  {
   "cell_type": "code",
   "execution_count": null,
   "metadata": {},
   "outputs": [],
   "source": [
    "result = crew.kickoff()"
   ]
  }
 ],
 "metadata": {
  "kernelspec": {
   "display_name": "CREWAI",
   "language": "python",
   "name": "python3"
  },
  "language_info": {
   "codemirror_mode": {
    "name": "ipython",
    "version": 3
   },
   "file_extension": ".py",
   "mimetype": "text/x-python",
   "name": "python",
   "nbconvert_exporter": "python",
   "pygments_lexer": "ipython3",
   "version": "3.11.7"
  }
 },
 "nbformat": 4,
 "nbformat_minor": 2
}
